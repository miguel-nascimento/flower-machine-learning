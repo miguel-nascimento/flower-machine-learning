{
 "cells": [
  {
   "cell_type": "code",
   "execution_count": 1,
   "metadata": {},
   "outputs": [],
   "source": [
    "%matplotlib inline"
   ]
  },
  {
   "cell_type": "code",
   "execution_count": 2,
   "metadata": {},
   "outputs": [],
   "source": [
    "from matplotlib import pyplot as plt\n",
    "import numpy as np\n",
    "from win32com.client import Dispatch"
   ]
  },
  {
   "cell_type": "code",
   "execution_count": 3,
   "metadata": {},
   "outputs": [],
   "source": [
    "data = [[3,   1.5, 1],\n",
    "        [2,   1,   0],\n",
    "        [4,   1.5, 1],\n",
    "        [3,   1,   0],\n",
    "        [3.5, .5,  1],\n",
    "        [2,   .5,  0],\n",
    "        [5.5,  1,  1],\n",
    "        [1,    1,  0]]\n",
    "\n",
    "mystery_flower = [4.5, 1]"
   ]
  },
  {
   "cell_type": "code",
   "execution_count": 4,
   "metadata": {},
   "outputs": [],
   "source": [
    "# rede neural\n",
    "\n",
    "#     o    tipo de flor\n",
    "#   /  \\   w1, w2 , b\n",
    "#  o    o  length , width"
   ]
  },
  {
   "cell_type": "code",
   "execution_count": 5,
   "metadata": {},
   "outputs": [],
   "source": [
    "def sigmoid(x):\n",
    "    #funcao sigmoid (0 e 1)\n",
    "    return 1/(1 + np.exp(-x))\n",
    "\n",
    "def sigmoid_p(x):\n",
    "    #derivada de sigmoid\n",
    "    return sigmoid(x) * (1-sigmoid(x))"
   ]
  },
  {
   "cell_type": "code",
   "execution_count": 6,
   "metadata": {
    "scrolled": true
   },
   "outputs": [
    {
     "data": {
      "image/png": "[encoded data removed]",
      "text/plain": [
       "<Figure size 432x288 with 1 Axes>"
      ]
     },
     "metadata": {
      "needs_background": "light"
     },
     "output_type": "display_data"
    }
   ],
   "source": [
    "T = np.linspace(-5, 5, 100)\n",
    "\n",
    "# grafico de sigmoid\n",
    "plt.plot(T,sigmoid(T), c='r')\n",
    "\n",
    "# grafico da derivada (slope)\n",
    "fig = plt.plot(T,sigmoid_p(T), c='b')"
   ]
  },
  {
   "cell_type": "code",
   "execution_count": 71,
   "metadata": {},
   "outputs": [
    {
     "data": {
      "image/png": "[encoded data removed]",
      "text/plain": [
       "<Figure size 432x288 with 1 Axes>"
      ]
     },
     "metadata": {
      "needs_background": "light"
     },
     "output_type": "display_data"
    }
   ],
   "source": [
    "w1 = np.random.randn()\n",
    "w2 = np.random.randn()\n",
    "b = np.random.randn()\n",
    "\n",
    "iterations = 10000\n",
    "learning_rate = 0.1\n",
    "costs = [] \n",
    "\n",
    "for i in range(iterations):\n",
    "    # get a random point\n",
    "    ri = np.random.randint(len(data))\n",
    "    point = data[ri]\n",
    "\n",
    "    # NN = m1 * w1 + m2 * w2 + b\n",
    "    z = point[0] * w1 + point[1] * w2 + b\n",
    "    pred = sigmoid(z) # predição da rede neural\n",
    "\n",
    "    target = point[2]\n",
    "\n",
    "    # custo do ponto randomico\n",
    "    cost = np.square(pred - target)\n",
    "\n",
    "    # a cada 1k iteraçoes ele printa\n",
    "    if i % 100 == 0:\n",
    "        c = 0\n",
    "        for j in range(len(data)):\n",
    "            p = data[j]\n",
    "            p_pred = sigmoid(w1 * p[0] + w2 * p[1] + b)\n",
    "            c += np.square(p_pred - p[2])\n",
    "        costs.append(c)\n",
    "\n",
    "    dcost_dpred = 2 * (pred - target)\n",
    "    dpred_dz = sigmoid_p(z)\n",
    "\n",
    "    dz_dw1 = point[0]\n",
    "    dz_dw2 = point[1]\n",
    "    dz_db = 1\n",
    "\n",
    "    dcost_dz = dcost_dpred * dpred_dz\n",
    "\n",
    "    dcost_dw1 = dcost_dz * dz_dw1\n",
    "    dcost_dw2 = dcost_dz * dz_dw2\n",
    "    dcost_db = dcost_dz * dz_db\n",
    "\n",
    "    w1 = w1 - learning_rate * dcost_dw1\n",
    "    w2 = w2 - learning_rate * dcost_dw2\n",
    "    b = b - learning_rate * dcost_db\n",
    "\n",
    "fig = plt.plot(costs)"
   ]
  },
  {
   "cell_type": "code",
   "execution_count": 8,
   "metadata": {},
   "outputs": [
    {
     "data": {
      "image/png": "[encoded data removed]",
      "text/plain": [
       "<Figure size 432x288 with 1 Axes>"
      ]
     },
     "metadata": {
      "needs_background": "light"
     },
     "output_type": "display_data"
    }
   ],
   "source": [
    "# desenho da data\n",
    "def view_data():\n",
    "    plt.grid()\n",
    "    for i in range(len(data)):\n",
    "        point = data[i]\n",
    "        color = \"r\"\n",
    "        if point[2] == 0:\n",
    "            color = \"b\"\n",
    "        plt.scatter(point[0], point[1], c=color)\n",
    "    plt.scatter([mystery_flower[0]], [mystery_flower[1]], c='gray')\n",
    "\n",
    "view_data()"
   ]
  },
  {
   "cell_type": "code",
   "execution_count": 9,
   "metadata": {},
   "outputs": [
    {
     "name": "stdout",
     "output_type": "stream",
     "text": [
      "[3, 1.5, 1]\n",
      "pred : 0.7215300036499477\n",
      "[2, 1, 0]\n",
      "pred : 0.10842617542609334\n",
      "[4, 1.5, 1]\n",
      "pred : 0.9721335344178581\n",
      "[3, 1, 0]\n",
      "pred : 0.6208333348936851\n",
      "[3.5, 0.5, 1]\n",
      "pred : 0.7915201147629987\n",
      "[2, 0.5, 0]\n",
      "pred : 0.07136583929933382\n",
      "[5.5, 1, 1]\n",
      "pred : 0.9990826471540638\n",
      "[1, 1, 0]\n",
      "pred : 0.008951660805208745\n"
     ]
    }
   ],
   "source": [
    "#observando a predição do nosso modelo\n",
    "\n",
    "for i in range(len(data)):\n",
    "    point = data[i]\n",
    "    print(point)\n",
    "    z = point[0] * w1 + point[1] * w2 + b\n",
    "    pred = sigmoid(z)\n",
    "    print(\"pred : {}\".format(pred))"
   ]
  },
  {
   "cell_type": "code",
   "execution_count": 10,
   "metadata": {},
   "outputs": [
    {
     "name": "stdout",
     "output_type": "stream",
     "text": [
      "0.9877885555938564\n",
      "perto de 0 -> azul, perto de 1 -> vermelho\n"
     ]
    }
   ],
   "source": [
    "# predição da flor misteriosa\n",
    "\n",
    "z = w1 * mystery_flower[0] + w2 * mystery_flower[1] + b\n",
    "pred = sigmoid(z)\n",
    "\n",
    "print(pred)\n",
    "print(\"perto de 0 -> azul, perto de 1 -> vermelho\")"
   ]
  },
  {
   "cell_type": "code",
   "execution_count": 72,
   "metadata": {},
   "outputs": [
    {
     "data": {
      "image/png": "[encoded data removed]",
      "text/plain": [
       "<Figure size 432x288 with 1 Axes>"
      ]
     },
     "metadata": {
      "needs_background": "light"
     },
     "output_type": "display_data"
    }
   ],
   "source": [
    "# verifica a predição da rede neural em plano cartesiano\n",
    "for x in np.linspace(0, 6, 20):\n",
    "    for y in np.linspace(0, 3, 20):\n",
    "        pred = sigmoid(w1 * x + w2 * y + b)\n",
    "        c = 'b'\n",
    "        if pred > .5:\n",
    "            c = 'r'\n",
    "        plt.scatter([x],[y],c=c, alpha=.2)\n",
    "        \n",
    "# mostra os pontos em cima da predição da rede neural\n",
    "# se voce ver metade azul, e a outra vermelha, significa que\n",
    "# a predição de dados está muito bem!\n",
    "view_data()"
   ]
  },
  {
   "cell_type": "code",
   "execution_count": 31,
   "metadata": {},
   "outputs": [],
   "source": [
    "speak = Dispatch(\"SAPI.SpVoice\")\n",
    "\n",
    "def which_flower(lenght, width):\n",
    "    z = lenght * w1 + width * w2 + b\n",
    "    pred = sigmoid(z)\n",
    "    if pred < .5:\n",
    "        speak.Speak(\"Azul\")\n",
    "        print(\"Azul\")\n",
    "    else:\n",
    "        speak.Speak(\"Vermelho\")\n",
    "        print(\"Vermelho\")"
   ]
  },
  {
   "cell_type": "code",
   "execution_count": 73,
   "metadata": {},
   "outputs": [
    {
     "name": "stdout",
     "output_type": "stream",
     "text": [
      "Azul\n"
     ]
    }
   ],
   "source": [
    "which_flower(3, 1)"
   ]
  },
  {
   "cell_type": "code",
   "execution_count": null,
   "metadata": {},
   "outputs": [],
   "source": []
  }
 ],
 "metadata": {
  "kernelspec": {
   "display_name": "Python 3",
   "language": "python",
   "name": "python3"
  },
  "language_info": {
   "codemirror_mode": {
    "name": "ipython",
    "version": 3
   },
   "file_extension": ".py",
   "mimetype": "text/x-python",
   "name": "python",
   "nbconvert_exporter": "python",
   "pygments_lexer": "ipython3",
   "version": "3.7.3"
  }
 },
 "nbformat": 4,
 "nbformat_minor": 2
}
